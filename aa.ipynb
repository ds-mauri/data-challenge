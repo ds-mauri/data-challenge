#!/usr/bin/env python
# coding: utf-8

# In[ ]:


a = 1


# In[ ]:


print(a)


# In[ ]:




